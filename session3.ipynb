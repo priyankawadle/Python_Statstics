{
 "cells": [
  {
   "cell_type": "markdown",
   "id": "a0e8c1db",
   "metadata": {},
   "source": [
    "<!-- Q1.A student guesses answers on a 10-question multiple choice test. Each question has 4 options (only one correct). What is the probability\n",
    "the student gets exactly 2 answers correct? -->\n",
    "n=10\n",
    "p=1/4=0.25\n",
    "x=2\n",
    "p(x)=0.28\n",
    "2. aleast 5 answers correct?\n",
    "X=5,6,7,8,9,10\n",
    "P(X)=0.07813\n",
    "3. atmax 6 answers corect?\n",
    "X=1,2,3,4,5,6\n",
    "P(X) = 0.99649"
   ]
  },
  {
   "cell_type": "markdown",
   "id": "52e4c6ea",
   "metadata": {},
   "source": [
    "<!-- Q2.A new product has a 70% chance of success in a trial market. It is tested in 10 markets. What is the probability it succeeds in exactly 8 of\n",
    "them? -->\n",
    "P=0.7\n",
    "N=10\n",
    "X=8\n",
    "P(X)=?\n",
    "p(x)=0.23347"
   ]
  },
  {
   "cell_type": "markdown",
   "id": "5b11cf50",
   "metadata": {},
   "source": [
    "<!-- Q.3  A biased die has a probability of rolling a 6 as 0.2. It is rolled 8 times. Find the probability of rolling a six 2 times. -->\n",
    "P=0.2\n",
    "N=8\n",
    "X=2\n",
    "P(X)=?\n",
    "P(X)=0.2936"
   ]
  },
  {
   "cell_type": "markdown",
   "id": "66acdb0a",
   "metadata": {},
   "source": [
    "<!-- Q.4 A quiz has 5 questions, and a student has a 60% chance of answering each correctly. What is the probability the student gets at least 3\n",
    "questions correct? -->\n",
    "N=5\n",
    "P=0.6\n",
    "X=3,4,5\n",
    "P(X)=?\n",
    "P(X) =0.3456"
   ]
  },
  {
   "cell_type": "markdown",
   "id": "7a96cd8f",
   "metadata": {},
   "source": [
    "IQ scores are normally distributed with mean = 100 and standard deviation = 15. What is the probability that a randomly chosen person has an IQ greater than 130?\n",
    "\n",
    "mean=100 SD= 15\n",
    "P(X>130)=0.022"
   ]
  },
  {
   "cell_type": "markdown",
   "id": "3606fd66",
   "metadata": {},
   "source": [
    "🔹 Q2. Student Heights\n",
    "The heights of students in a college are normally distributed with a mean of 170 cm and standard deviation of 10 cm.\n",
    "📌 What percentage of students are between 160 cm and 180 cm?\n",
    "mean=170\n",
    "SD = 10\n",
    "P(160 to 180)= greater_than_160-greater_than_180 = 084134-0.15866 =\n",
    "greater_than_160=0.84134\n",
    "greater_than_180=0.15866\n",
    "\n"
   ]
  },
  {
   "cell_type": "markdown",
   "id": "c04f8ffa",
   "metadata": {},
   "source": [
    "🔹 Q3. Factory Defects\n",
    "The diameter of a machine part follows a normal distribution with μ = 5 cm, σ = 0.02 cm.\n",
    "📌 What proportion of parts have diameter less than 4.98 cm?\n",
    " μ = 5 cm, \n",
    " σ = 0.02 cm.\n",
    " P(<=4.98) =?\n",
    "0.15866"
   ]
  },
  {
   "cell_type": "markdown",
   "id": "634ec975",
   "metadata": {},
   "source": [
    "🔹 Q4. Exam Scores\n",
    "Exam scores are normally distributed with mean = 75 and standard deviation = 8.\n",
    "📌 A student scored 90. What is their z-score?\n",
    "mean = 75 \n",
    "standard deviation = 8.\n",
    "P(90)\n",
    "\n",
    "\n",
    "\n",
    "🔹 Q5. Battery Life\n",
    "Battery life is normally distributed with mean = 500 hours and standard deviation = 50 hours.\n",
    "📌 Find the probability that a randomly selected battery lasts more than 600 hours.\n",
    "mean=500\n",
    "sd=50\n",
    "p(600>=)=0.02275\n",
    "\n",
    "🔹 Q6. Cutoff Marks\n",
    "In a normally distributed test with μ = 60 and σ = 10:\n",
    "📌 What is the cutoff mark for the top 5% of the students?\n",
    "μ = 60 \n",
    "σ = 10\n",
    "p(5%) = \n",
    "\n",
    "🔹 Q7. Percentile Question\n",
    "If body temperature is normally distributed with μ = 98.6°F and σ = 0.7°F,\n",
    "📌 What temperature corresponds to the 95th percentile?\n",
    "μ = 98.6°F \n",
    "σ = 0.7°F,\n",
    "P(95%)\n",
    "\n",
    "🔹 Q8. Daily Steps\n",
    "The number of steps taken per day by users of a fitness app follows normal distribution with μ = 8000, σ = 1500.\n",
    "📌 What percentage of users take less than 5000 steps per day?\n",
    "μ = 8000, σ = 1500.\n",
    "P(<=5000)=0.02275\n",
    "\n",
    "🔹 Q9. Probability Between Two Values\n",
    "In a normal distribution with mean = 200 and standard deviation = 40,\n",
    "📌 Find the probability that a value is between 160 and 240.\n",
    "mean = 200 , standard deviation = 40,\n",
    "p(160 to 240)=\n",
    "p(greetER_160)-p(greater_240)\n",
    "=\n",
    "\n",
    "\n",
    "🔹 Q10. Detecting Outliers\n",
    "In a dataset normally distributed with μ = 100 and σ = 20,\n",
    "📌 A value of 160 appears. Is this considered an outlier? (Hint: Use z-score)\n",
    "μ = 100 and σ = 20,\n",
    "p(160)"
   ]
  }
 ],
 "metadata": {
  "language_info": {
   "name": "python"
  }
 },
 "nbformat": 4,
 "nbformat_minor": 5
}
