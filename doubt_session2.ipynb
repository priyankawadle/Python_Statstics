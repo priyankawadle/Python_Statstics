{
 "cells": [
  {
   "cell_type": "code",
   "execution_count": 1,
   "id": "9de69dfd",
   "metadata": {},
   "outputs": [
    {
     "ename": "ModuleNotFoundError",
     "evalue": "No module named 'seaborn'",
     "output_type": "error",
     "traceback": [
      "\u001b[1;31m---------------------------------------------------------------------------\u001b[0m",
      "\u001b[1;31mModuleNotFoundError\u001b[0m                       Traceback (most recent call last)",
      "Cell \u001b[1;32mIn[1], line 9\u001b[0m\n\u001b[0;32m      7\u001b[0m \u001b[38;5;66;03m#Visualization (Optional - for plotting distributions)\u001b[39;00m\n\u001b[0;32m      8\u001b[0m \u001b[38;5;28;01mimport\u001b[39;00m\u001b[38;5;250m \u001b[39m\u001b[38;5;21;01mmatplotlib\u001b[39;00m\u001b[38;5;21;01m.\u001b[39;00m\u001b[38;5;21;01mpyplot\u001b[39;00m\u001b[38;5;250m \u001b[39m\u001b[38;5;28;01mas\u001b[39;00m\u001b[38;5;250m \u001b[39m\u001b[38;5;21;01mplt\u001b[39;00m\n\u001b[1;32m----> 9\u001b[0m \u001b[38;5;28;01mimport\u001b[39;00m\u001b[38;5;250m \u001b[39m\u001b[38;5;21;01mseaborn\u001b[39;00m\u001b[38;5;250m \u001b[39m\u001b[38;5;28;01mas\u001b[39;00m\u001b[38;5;250m \u001b[39m\u001b[38;5;21;01msns\u001b[39;00m\n\u001b[0;32m     10\u001b[0m \u001b[38;5;28;01mimport\u001b[39;00m\u001b[38;5;250m \u001b[39m\u001b[38;5;21;01mplotly\u001b[39;00m\u001b[38;5;21;01m.\u001b[39;00m\u001b[38;5;21;01mgraph_objects\u001b[39;00m\u001b[38;5;250m \u001b[39m\u001b[38;5;28;01mas\u001b[39;00m\u001b[38;5;250m \u001b[39m\u001b[38;5;21;01mgo\u001b[39;00m\n",
      "\u001b[1;31mModuleNotFoundError\u001b[0m: No module named 'seaborn'"
     ]
    }
   ],
   "source": [
    "# Statistical Functions\n",
    "from scipy.stats import norm, binom\n",
    "\n",
    "# Numerical Computations\n",
    "import numpy as np\n",
    "\n",
    "#Visualization (Optional - for plotting distributions)\n",
    "import matplotlib.pyplot as plt\n",
    "import seaborn as sns\n",
    "import plotly.graph_objects as go"
   ]
  },
  {
   "cell_type": "markdown",
   "id": "748eec06",
   "metadata": {},
   "source": [
    "<!-- Q19. Delivery Time Windows\n",
    "A delivery app reports that the time to deliver groceries is normally distributed with a mean of 30 minutes and standard deviation of 6\n",
    "minutes.\n",
    "The app promises: \"95% of our orders arrive within X minutes.\"\n",
    "What value of X should they advertise? -->\n",
    "\n",
    "μ = 30\n",
    "σ = 6,\n",
    "x=39.86912"
   ]
  },
  {
   "cell_type": "markdown",
   "id": "a860240d",
   "metadata": {},
   "source": [
    "<!-- Q20. E-commerce Conversion Rates\n",
    "An e-commerce site has a 5% conversion rate per visitor.\n",
    "Out of 500 visitors, what is the probability that fewer than 20 make a purchase?\n",
    "(Use normal approximation to the binomial) -->\n",
    "n=500\n",
    "p=0.05\n",
    "p(x<=20>) = 0.17885"
   ]
  },
  {
   "cell_type": "markdown",
   "id": "3b223bd2",
   "metadata": {},
   "source": [
    "Q1. Distribution Type\n",
    "Classify the following as discrete or continuous random variables: \n",
    "a) Number of products sold daily in a store- discrete\n",
    "b) Time (in minutes) a customer spends on checkout -> discrete\n",
    "c) Number of rainy days in a month - discrete\n",
    "d) Weight of a newborn baby - continuos"
   ]
  },
  {
   "cell_type": "markdown",
   "id": "606e8824",
   "metadata": {},
   "source": [
    "Q2. Binomial PMF Logic\n",
    "A basketball player has a 70% chance of making a free throw.\n",
    "If she takes 8 shots, what is the probability she makes exactly 6 of them?\n",
    "\n",
    "n=8  p=0.7\n",
    "\n",
    "p(x=6)=0.29648"
   ]
  },
  {
   "cell_type": "code",
   "execution_count": 2,
   "id": "889e50fd",
   "metadata": {},
   "outputs": [
    {
     "name": "stdout",
     "output_type": "stream",
     "text": [
      "0.29647548000000007\n"
     ]
    }
   ],
   "source": [
    "q2=binom.pmf(6, 8, 0.7)\n",
    "print(q2)"
   ]
  },
  {
   "cell_type": "markdown",
   "id": "13f5e7df",
   "metadata": {},
   "source": [
    "Q3. Binomial Cumulative Probability\n",
    "In a batch of 15 smartphones, each has a 10% chance of being defective.\n",
    "What is the probability that at most 2 phones are defective?\n",
    "n=15 p=0.1\n",
    "p(x<=2>)= 0.81594"
   ]
  },
  {
   "cell_type": "markdown",
   "id": "c7f9a720",
   "metadata": {},
   "source": [
    "Q4. Binomial Real-Life\n",
    "A machine has 90% uptime reliability per day.\n",
    "Over a 10-day period, what is the probability it works flawlessly all 10 days?\n",
    "\n",
    "p=0.9 n=10\n",
    "p(x=10)= 0.34868\n"
   ]
  },
  {
   "cell_type": "code",
   "execution_count": null,
   "id": "1107afe5",
   "metadata": {},
   "outputs": [],
   "source": [
    "q4= binom.cdf()"
   ]
  },
  {
   "cell_type": "markdown",
   "id": "802b20f4",
   "metadata": {},
   "source": [
    "Q5. Z-Score Interpretation\n",
    "A test has mean = 80, standard deviation = 6.\n",
    "A student scored 95.\n",
    "What is their z-score and what does it mean in terms of performance?\n",
    "mean = 80, \n",
    "standard deviation = 6.\n",
    "# Z score = (value - mean) / std deviation\n",
    "\n"
   ]
  },
  {
   "cell_type": "code",
   "execution_count": 3,
   "id": "c367d195",
   "metadata": {},
   "outputs": [
    {
     "name": "stdout",
     "output_type": "stream",
     "text": [
      "2.5\n"
     ]
    }
   ],
   "source": [
    "q5 = (95 - 80) / 6\n",
    "print(q5)"
   ]
  },
  {
   "cell_type": "markdown",
   "id": "80b156ca",
   "metadata": {},
   "source": [
    "Q6. Probability Using Z-Score\n",
    "Heights of women are normally distributed with μ = 160 cm and σ = 7 cm.\n",
    "What proportion of women are taller than 172 cm?\n",
    "\n",
    "μ = 160 cm \n",
    " σ = 7 cm.\n",
    " q4= binom.cdf()"
   ]
  },
  {
   "cell_type": "markdown",
   "id": "54a52cf0",
   "metadata": {},
   "source": [
    "Q7. Real World - Cutoff Calculation\n",
    "To qualify for a competition, you need to be in the top 10% of a test.\n",
    "If the test scores are normally distributed with mean = 70 and std = 8,\n",
    "what is the minimum score needed to qualify?\n",
    "\n"
   ]
  },
  {
   "cell_type": "markdown",
   "id": "cdd8aae1",
   "metadata": {},
   "source": [
    "Q8. Temperature Range Probability\n",
    "The body temperature of adults is normally distributed with μ = 98.6°F, σ = 0.7°F.\n",
    "What percentage of adults have temperature between 97.5°F and 99.5°F?\n",
    "\n"
   ]
  },
  {
   "cell_type": "markdown",
   "id": "ce6926fb",
   "metadata": {},
   "source": [
    "Q9. PDF vs CDF\n",
    "Explain the difference between PDF and CDF using the context of human weight distribution.\n",
    "Which one would you use to calculate:\n",
    "a) The density of people weighing exactly 75kg\n",
    "b) The proportion of people weighing less than 75kg\n",
    "\n"
   ]
  },
  {
   "cell_type": "markdown",
   "id": "2ffe46d9",
   "metadata": {},
   "source": [
    "Q10. Distribution Guess\n",
    "You are given data on the number of daily customer complaints in a call center (0–10 complaints).\n",
    "Would you model this using a binomial, Poisson, or normal distribution? Why?"
   ]
  },
  {
   "cell_type": "markdown",
   "id": "cc32bf7b",
   "metadata": {},
   "source": [
    "Q11. Standard Score Conversion\n",
    "Convert a raw score of 88 to a z-score if the dataset has μ = 75 and σ = 5.\n",
    "Then use the z-table to find the percentile of this score.\n",
    "\n",
    "\n",
    "\n"
   ]
  },
  {
   "cell_type": "markdown",
   "id": "fc4faf9f",
   "metadata": {},
   "source": [
    "Q12. Normal to Binomial Approximation\n",
    "If a binomial distribution has n = 100 and p = 0.5,\n",
    "use a normal approximation to find the probability of getting between 45 and 55 successes inclusive.\n"
   ]
  },
  {
   "cell_type": "markdown",
   "id": "a8ce80a2",
   "metadata": {},
   "source": [
    "\n",
    "Q13. Advanced – Range Between Two Z-Scores\n",
    "IQ scores are normally distributed with mean 100, std 15.\n",
    "Find the probability that a person has an IQ between 85 and 130.\n",
    "\n"
   ]
  },
  {
   "cell_type": "markdown",
   "id": "05e88fb1",
   "metadata": {},
   "source": [
    "Q14. Negative Z-Scores\n",
    "SAT scores are normally distributed with mean 1050, std 200.\n",
    "A student scored 800. What is their z-score and what % of students scored better than them?\n",
    "\n"
   ]
  },
  {
   "cell_type": "markdown",
   "id": "7e3c589c",
   "metadata": {},
   "source": [
    "Q15. Inverse CDF (Percentile to Value)\n",
    "In a normal distribution with mean 250 and std 20,\n",
    "what value corresponds to the 40th percentile?\n",
    "\n",
    "\n",
    "[ ]\n",
    "\n",
    "Start coding or generate with AI.\n"
   ]
  },
  {
   "cell_type": "markdown",
   "id": "3fa39a29",
   "metadata": {},
   "source": [
    "Q16. Stock Return Ranges\n",
    "The daily return on a tech stock is normally distributed with a mean of 0.5% and a standard deviation of 2%.\n",
    "What is the probability that on a given day, the return will be between -1% and +2%?\n",
    "\n"
   ]
  },
  {
   "cell_type": "markdown",
   "id": "e9b98ba1",
   "metadata": {},
   "source": [
    "Q17. Hospital Wait Times\n",
    "The average wait time at an emergency room follows a normal distribution with μ = 45 minutes and σ = 12 minutes.\n",
    "What is the maximum wait time that 90% of patients will experience?\n"
   ]
  },
  {
   "cell_type": "markdown",
   "id": "c0c827fd",
   "metadata": {},
   "source": [
    "\n",
    "Q18. Manufacturing – Defect Detection\n",
    "In a smart factory, the number of defects detected per hour follows a binomial distribution.\n",
    "Each unit has a 2% defect probability. If the system checks 100 units in an hour,\n",
    "what is the probability that more than 3 are defective?\n",
    "\n"
   ]
  },
  {
   "cell_type": "markdown",
   "id": "27dcc681",
   "metadata": {},
   "source": [
    "Q19. Delivery Time Windows\n",
    "A delivery app reports that the time to deliver groceries is normally distributed with a mean of 30 minutes and standard deviation of 6 minutes.\n",
    "The app promises: “95% of our orders arrive within X minutes.”\n",
    "What value of X should they advertise?\n",
    "\n"
   ]
  },
  {
   "cell_type": "markdown",
   "id": "b7248a97",
   "metadata": {},
   "source": [
    "Q20. E-commerce Conversion Rates\n",
    "An e-commerce site has a 5% conversion rate per visitor.\n",
    "Out of 500 visitors, what is the probability that fewer than 20 make a purchase?\n",
    "(Use normal approximation to the binomial)\n",
    "\n"
   ]
  }
 ],
 "metadata": {
  "kernelspec": {
   "display_name": "Python 3",
   "language": "python",
   "name": "python3"
  },
  "language_info": {
   "codemirror_mode": {
    "name": "ipython",
    "version": 3
   },
   "file_extension": ".py",
   "mimetype": "text/x-python",
   "name": "python",
   "nbconvert_exporter": "python",
   "pygments_lexer": "ipython3",
   "version": "3.10.11"
  }
 },
 "nbformat": 4,
 "nbformat_minor": 5
}
