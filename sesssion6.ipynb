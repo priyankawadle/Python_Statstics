{
 "cells": [
  {
   "cell_type": "code",
   "execution_count": null,
   "id": "11d80098",
   "metadata": {},
   "outputs": [
    {
     "name": "stdout",
     "output_type": "stream",
     "text": [
      "T-statistic: 9.285714285714286\n",
      "P-value: 0.9998781876568148\n",
      "We Failed to reject H(0)\n"
     ]
    }
   ],
   "source": [
    "# Blood Pressure Medication Study\n",
    "# A doctor tests a new medication to reduce blood pressure. Blood pressure of 6 patients is measured before and after taking the drug.\n",
    "# Before: [150, 145, 160, 155, 148, 152]\n",
    "# After: [140, 138, 145, 142, 139, 141]\n",
    "# Check whether the medication significantly lowers blood pressure (one-tailed test).\n",
    "\n",
    "import numpy as np\n",
    "from scipy.stats import ttest_rel\n",
    "import seaborn as sns\n",
    "import matplotlib.pyplot as plt\n",
    "import pandas as pd\n",
    "\n",
    "#Independent T-Test\n",
    "\n",
    "from scipy.stats import ttest_ind\n",
    "import numpy as np\n",
    "\n",
    "before = np.array([150, 145, 160, 155, 148, 152])\n",
    "after = np.array( [140, 138, 145, 142, 139, 141])\n",
    "\n",
    "t_stat, p_val = ttest_rel(before, after) #ttest_rel always returns two tailed P_value , so need to covert them into one tail value\n",
    "if t_stat > 0:\n",
    "    p_val = 1 - (p_val / 2)  # For H1: mean difference < 0, this is not in the tail\n",
    "else:\n",
    "    p_val = p_val / 2        # For H1: mean difference < 0, this is the correct\n",
    "print(\"T-statistic:\", t_stat)\n",
    "print(\"P-value:\", p_val)\n",
    "if p_val < 0.05:\n",
    "    print(\"We ReJect H(0)\")\n",
    "else:\n",
    "    print(\"We Failed to reject H(0)\")"
   ]
  },
  {
   "cell_type": "markdown",
   "id": "dbba8fd2",
   "metadata": {},
   "source": [
    "### Productivity After Remote Work Switch\n",
    "A company measures employee productivity (in units/day) before and after shifting to remote work.\n",
    "\n",
    "Before: [70, 68, 75, 72, 69, 73, 74]\n",
    "\n",
    "After: [72, 70, 78, 75, 71, 75, 77]\n",
    "\n",
    "Test if remote work increased productivity (right-tailed)."
   ]
  },
  {
   "cell_type": "code",
   "execution_count": 7,
   "id": "062a9b36",
   "metadata": {},
   "outputs": [
    {
     "name": "stdout",
     "output_type": "stream",
     "text": [
      "T-statistic: -12.020815280171307\n",
      "P-value: 1.0052321182121114e-05\n",
      "We ReJect H(0)\n"
     ]
    }
   ],
   "source": [
    "#H0: No significant productivity improvement.\n",
    "#H1: Productivity increased after remote shift\n",
    "before = np.array([70, 68, 75, 72, 69, 73, 74])\n",
    "after = np.array( [72, 70, 78, 75, 71, 75, 77])\n",
    "\n",
    "t_stat, p_val = ttest_rel(before, after)\n",
    "if t_stat > 0:\n",
    "    p_val = 1 - (p_val / 2)  # For H1: mean difference < 0, this is not in the tail\n",
    "else:\n",
    "    p_val = p_val / 2        # For H1: mean difference < 0, this is the correct\n",
    "print(\"T-statistic:\", t_stat)\n",
    "print(\"P-value:\", p_val)\n",
    "if p_val < 0.05:\n",
    "    print(\"We ReJect H(0)\")\n",
    "else:\n",
    "    print(\"We Fail to reject H(0)\")"
   ]
  },
  {
   "cell_type": "markdown",
   "id": "7d3886e7",
   "metadata": {},
   "source": [
    " Exam Performance – Online vs In-Person Students\n",
    "A school wants to compare test performance between students who attended:\n",
    "\n",
    "Online classes: [78, 82, 85, 80, 77, 79]\n",
    "\n",
    "In-person classes: [84, 88, 86, 85, 87, 89]\n",
    "\n",
    "H0: No difference in performance H1: In-person students score higher\n",
    "\n",
    "Marketing Campaign – Conversion Rate\n",
    "Two versions of a landing page were tested on different user groups.\n",
    "\n",
    "Group A (Old Design): [5, 7, 4, 6, 8] Group B (New Design): [9, 10, 11, 8, 12]\n",
    "\n",
    "H0:No difference in conversion H1:New design increases conversions\n",
    "\n",
    "Sleep Duration – City vs Rural\n",
    "Researchers want to study if people living in urban areas sleep less.\n",
    "\n",
    "City Group (hours): [6.2, 6.5, 6.0, 5.9, 6.3] Rural Group (hours): [7.1, 7.3, 6.9, 7.2, 7.0]\n",
    "\n",
    "H0: No difference in average sleep H1: Rural group sleeps more"
   ]
  },
  {
   "cell_type": "code",
   "execution_count": 8,
   "id": "723d7c90",
   "metadata": {},
   "outputs": [],
   "source": [
    "import numpy as np\n",
    "from scipy.stats import ttest_ind\n",
    "\n",
    "def one_tailed_ttest(group1, group2, label1, label2):\n",
    "\n",
    "    # Welch’s t-test (equal_var=False)\n",
    "    t_stat, p_val_two_tailed = ttest_ind(group1, group2, equal_var=False)\n",
    "\n",
    "    # One-tailed adjustment: check if group1 > group2\n",
    "    if t_stat > 0:\n",
    "        p_val_one_tailed = p_val_two_tailed / 2\n",
    "    else:\n",
    "        p_val_one_tailed = 1 - (p_val_two_tailed / 2)\n",
    "\n",
    "    # Print results\n",
    "    print(f\"\\n--- {label1} > {label2} ---\")\n",
    "    print(\"T-statistic:\", round(t_stat, 3))\n",
    "    print(\"Two-tailed p-value:\", round(p_val_two_tailed, 4))\n",
    "    print(\"One-tailed p-value:\", round(p_val_one_tailed, 4))\n",
    "    if p_val_one_tailed < 0.05:\n",
    "        print(f\" Significant: {label1} is greater than {label2}\")\n",
    "    else:\n",
    "        print(f\" Not significant: No evidence that {label1} > {label2}\")\n"
   ]
  },
  {
   "cell_type": "code",
   "execution_count": 9,
   "id": "c35e9409",
   "metadata": {},
   "outputs": [
    {
     "name": "stdout",
     "output_type": "stream",
     "text": [
      "\n",
      "--- In-person > Online ---\n",
      "T-statistic: 4.466\n",
      "Two-tailed p-value: 0.0018\n",
      "One-tailed p-value: 0.0009\n",
      " Significant: In-person is greater than Online\n"
     ]
    }
   ],
   "source": [
    "# Q1: In-person vs Online test scores\n",
    "online = np.array([78, 82, 85, 80, 77, 79])\n",
    "in_person = np.array([84, 88, 86, 85, 87, 89])\n",
    "one_tailed_ttest(in_person, online, \"In-person\", \"Online\")"
   ]
  },
  {
   "cell_type": "code",
   "execution_count": 10,
   "id": "1a55747c",
   "metadata": {},
   "outputs": [
    {
     "name": "stdout",
     "output_type": "stream",
     "text": [
      "\n",
      "--- New Design > Old Design ---\n",
      "T-statistic: 4.0\n",
      "Two-tailed p-value: 0.0039\n",
      "One-tailed p-value: 0.002\n",
      " Significant: New Design is greater than Old Design\n"
     ]
    }
   ],
   "source": [
    "# Q2: New vs Old landing page conversions\n",
    "old_design = np.array([5, 7, 4, 6, 8])\n",
    "new_design = np.array([9, 10, 11, 8, 12])\n",
    "one_tailed_ttest(new_design, old_design, \"New Design\", \"Old Design\")"
   ]
  },
  {
   "cell_type": "code",
   "execution_count": 11,
   "id": "c7d504a0",
   "metadata": {},
   "outputs": [
    {
     "name": "stdout",
     "output_type": "stream",
     "text": [
      "\n",
      "--- Rural Sleep > City Sleep ---\n",
      "T-statistic: 7.184\n",
      "Two-tailed p-value: 0.0002\n",
      "One-tailed p-value: 0.0001\n",
      " Significant: Rural Sleep is greater than City Sleep\n"
     ]
    }
   ],
   "source": [
    "\n",
    "# Q3: Rural vs City sleep duration\n",
    "city = np.array([6.2, 6.5, 6.0, 5.9, 6.3])\n",
    "rural = np.array([7.1, 7.3, 6.9, 7.2, 7.0])\n",
    "one_tailed_ttest(rural, city, \"Rural Sleep\", \"City Sleep\")"
   ]
  }
 ],
 "metadata": {
  "kernelspec": {
   "display_name": "Python 3",
   "language": "python",
   "name": "python3"
  },
  "language_info": {
   "codemirror_mode": {
    "name": "ipython",
    "version": 3
   },
   "file_extension": ".py",
   "mimetype": "text/x-python",
   "name": "python",
   "nbconvert_exporter": "python",
   "pygments_lexer": "ipython3",
   "version": "3.10.11"
  }
 },
 "nbformat": 4,
 "nbformat_minor": 5
}
