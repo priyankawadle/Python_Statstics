{
 "cells": [
  {
   "cell_type": "code",
   "execution_count": null,
   "id": "11d80098",
   "metadata": {},
   "outputs": [],
   "source": [
    "# Blood Pressure Medication Study\n",
    "# A doctor tests a new medication to reduce blood pressure. Blood pressure of 6 patients is measured before and after taking the drug.\n",
    "# Before: [150, 145, 160, 155, 148, 152]\n",
    "# After: [140, 138, 145, 142, 139, 141]\n",
    "# Check whether the medication significantly lowers blood pressure (one-tailed test).\n",
    "\n",
    "import numpy as np\n",
    "from scipy.stats import ttest_ind\n",
    "import seaborn as sns\n",
    "import matplotlib.pyplot as plt\n",
    "import pandas as pd\n",
    "\n",
    "#Independent T-Test\n",
    "\n",
    "from scipy.stats import ttest_ind\n",
    "import numpy as np\n",
    "\n",
    "before = np.array([67, 70, 73, 65, 69])\n",
    "after = np.array([60, 62, 59, 61, 64])\n",
    "\n",
    "t_stat, p_val = ttest_ind(group1, group2, equal_var=False)\n",
    "print(\"T-statistic:\", t_stat)\n",
    "print(\"P-value:\", p_val)"
   ]
  }
 ],
 "metadata": {
  "language_info": {
   "name": "python"
  }
 },
 "nbformat": 4,
 "nbformat_minor": 5
}
