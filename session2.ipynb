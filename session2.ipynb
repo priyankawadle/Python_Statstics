{
 "cells": [
  {
   "cell_type": "markdown",
   "id": "0d31fa6a",
   "metadata": {},
   "source": [
    "p(spam)=0.3\n",
    "p(discount/spam)=0.4\n",
    "p(discount/nospam)=0.1\n",
    "p(spam/discount) =?\n",
    "p(discount)= p(spam)*p(disvount/spam) + p(nonspam)*p(discount/nonspam)\n",
    "           = 0.3*0.4 + 0.7*0.1\n",
    "           = 0.12 +0.7\n",
    "           = 0.19\n",
    "p(spam/discount) = p(discount/spam) * p(spam) / p(discount)\n",
    "              = 0.4*0.3/0.19\n",
    "              = 0.12 /0.19\n",
    "              = 0.6316"
   ]
  },
  {
   "cell_type": "markdown",
   "id": "0e9e1846",
   "metadata": {},
   "source": [
    "p(fraud) = 0.005\n",
    "p(nonfraud) = 0.995\n",
    "p(flag|fraud)= 0.98\n",
    "p(flag|non-fraud)= 0.01\n",
    "p(frad|flag)=?\n",
    "\n",
    "p(flag) = p(fraud) * p(flag|fraud) + p(nonfraud) * p(flag|non-fraud)\n",
    "        = 0.005 * 0.98 + 0.995 * 0.01\n",
    "        = 0.0049 + 0.00995 = 0.01485\n",
    "\n",
    "p(fraud|flag)=p(flag|fraud) * p(fraud) / p(flag)\n",
    "             = 0.98 * 0.005 /  0.01485 = 0.049 /  0.01485 = 0.3296"
   ]
  }
 ],
 "metadata": {
  "language_info": {
   "name": "python"
  }
 },
 "nbformat": 4,
 "nbformat_minor": 5
}
