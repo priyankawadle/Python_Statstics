{
 "cells": [
  {
   "cell_type": "markdown",
   "id": "e32d30ae",
   "metadata": {},
   "source": [
    "<!-- 14.Question -->\n",
    "<!-- #Q12: DNA Test Accuracy (Rare Trait)\n",
    "A genetic condition affects 1 in 2000 people.\n",
    "A DNA test:\n",
    "Detects the condition 99% of the time when it's prese\n",
    "Has a false positive rate of 1%\n",
    "If someone tests positive, what is the probability th\n",
    "condition?\n",
    "Despite the test being 99% accurate, this is a classi\n",
    "fallacy. -->\n",
    "p(genetic)=1 out of 2000 = 0.05\n",
    "p(notgentic) = 0.95\n",
    "p(detects|genectics)=0.99\n",
    "p(detects|notgenetic)=0.01\n",
    "p(genetic|detects) = \n",
    "p(detects|genetics) *p(genetics)/ p(detects)\n",
    "= 0.99 * 0.05 / 0.5045 = 0.09811\n",
    "\n",
    "p(detects) = \n",
    "p(detects|genectics) * p(genetic) + p(detects|notgenetic) *p(notgentics)\n",
    "= 0.99 * 0.05 + 0.01 * 0.95\n",
    "= 0.495 + 0.0095 = 0.5045\n",
    "\n"
   ]
  },
  {
   "cell_type": "markdown",
   "id": "9f611a21",
   "metadata": {},
   "source": [
    "<!--1. What is the probability of drawing a heart or a queen? -->\n",
    "p(heart) = 13 /52\n",
    "p(queen) = 4/ 52\n",
    "p(heart and queen) = 1/ 52\n",
    "p(heart or queen) = \n",
    "p(heart) + p(queen) - p(heart and heart)\n",
    "= 13/52 + 4/52  1/52 = 16/52 = 0.307\n",
    "\n"
   ]
  },
  {
   "cell_type": "markdown",
   "id": "5784f7ae",
   "metadata": {},
   "source": [
    "<!-- 2.  \n",
    "60% of students passed Math.\n",
    "50% passed Science.\n",
    "30% passed both.\n",
    "What is the probability that a randomly chosen student passed Math or Science? -->\n",
    "p(math)=0.6\n",
    "p(science) = 0.5\n",
    "p(math and science ) = 0.3\n",
    "p(math or science) \n",
    "= p(math) + p(science) - p(math and science)\n",
    "= 0.6 + 0.5 - 0.3\n",
    "= 0.6+0.2 \n",
    "= 0.8\n"
   ]
  },
  {
   "cell_type": "markdown",
   "id": "457f192f",
   "metadata": {},
   "source": [
    "<!-- Q3: Dice Roll - Simulation-Based Thinking\n",
    "If you roll two dice:\n",
    "What is the theoretical probability that the sum is 9?\n",
    "Now, simulate 10,000 trials and estimate the probability. -->\n",
    "p(total) = 36\n",
    "p(sum =9) \n",
    "= (3,6) (4,5) (5,4) (6,3) \n",
    "=4 / 36 = 0.1111\n",
    "\n"
   ]
  },
  {
   "cell_type": "markdown",
   "id": "e2a9f5a9",
   "metadata": {},
   "source": [
    "<!-- Q4: Conditional Thinking\n",
    "In a university:\n",
    "40% students are from CS\n",
    "30% of CS students take Al\n",
    "10% of non-CS students take Al\n",
    "If a student is found taking Al, what is the probability that they are from CS? -->\n",
    "p(cs) = 0.4\n",
    "p(noncs) =0.6\n",
    "p(ai|cs)=0.3\n",
    "p(ai|noncs) = 0.1\n",
    "p(cs|ai) =?\n",
    "p(ai) \n",
    "= p(ai|cs) *p(cs) + p(ai|noncs)*p(noncs)\n",
    "= 0.3 * 0.4 + 0.1*0.6 \n",
    "= 0.12 +0.06\n",
    "= 0.18\n",
    "p(cs|ai) \n",
    "= p(ai|cs) *p(acs) /p(ai)\n",
    "= 0.3 * 0.4 / 0.18\n",
    "= 0.12/0.18\n",
    "=0.6667"
   ]
  },
  {
   "cell_type": "markdown",
   "id": "a6907a80",
   "metadata": {},
   "source": [
    "<!-- Q5: Dependent Probability - Bag Draw\n",
    "A bag has 4 red and 6 blue balls.\n",
    "Two balls are drawn without replacement.\n",
    "What is the probability both are red? -->\n",
    "p(total)=10\n",
    "p(1st red) = 4/10\n",
    "p(2nd red) = 3/9\n",
    "p(both red) = 4/10 * 3/9\n",
    "=  12/90\n",
    "= 2/15\n",
    "=0.133"
   ]
  },
  {
   "cell_type": "markdown",
   "id": "77631862",
   "metadata": {},
   "source": [
    "<!-- Q11: A payment platform has:\n",
    "90% legitimate transactions\n",
    "8% low-risk fraud\n",
    "2% high-risk fraud\n",
    "A fraud detection system flags:\n",
    "90% of high-risk frauds\n",
    "70% of low-risk frauds\n",
    "5% of legitimate ones (false positives)\n",
    "If a transaction is flagged, what's the probability it is high-risk fraud?\n",
    "'Il need to calculate: P(HRF|Flag) -->\n",
    "p(g) = 0.9\n",
    "p(low)=0.08\n",
    "p(high)=0.02\n",
    "p(flag|high)=90%=0.9\n",
    "p(flag|low)=70%=0.7\n",
    "p(flag|g) = 0.05\n",
    "p(flag)\n",
    "=p(flag|high)*p(high) + p(flag|low)*p(low) + p(flag|g) *p(g)\n",
    "=0.9 * 0.02 + 0.7*0.08 + 0.05*0.9\n",
    "=0.018+0.056+0.045\n",
    "=0.119\n",
    "p(h|flag)\n",
    "=p(flag|h)*p(h) / p(flag)\n",
    "= 0.90 *0.02 /0.119 \n",
    "= 0.018 / 0.119\n",
    "=0.1513"
   ]
  },
  {
   "cell_type": "markdown",
   "id": "5a35fc0c",
   "metadata": {},
   "source": [
    " <!-- Q13 : Sensor Error in Industrial System\n",
    "A sensor in a smart factory triggers an alert when machinery fails:\n",
    "2% of machines fail in a year\n",
    "The sensor correctly detects 95% of failures\n",
    "But it falsely triggers for 3% of normal machines\n",
    "What is the probability that a machine is actually failing, given that the senso -->\n",
    "p(f)=0.02\n",
    "p(n)=0.98\n",
    "p(detects|f)=0.95\n",
    "p(detects|n)=0.03\n",
    "\n",
    "p(detects) \n",
    "=p(detects|f)*p(f) + p(n)*p(detects|n)\n",
    "= 0.95*0.02 + 0.98 *0.03\n",
    "=0.019+0.0294=0.0484\n",
    "\n",
    "p(f|detects)\n",
    "=p(detects|f) * p(detects) /p(f)\n",
    "=0.95*0.02/0.0484 = 0.019 /0.0484 = 0.3926\n",
    "\n"
   ]
  }
 ],
 "metadata": {
  "language_info": {
   "name": "python"
  }
 },
 "nbformat": 4,
 "nbformat_minor": 5
}
