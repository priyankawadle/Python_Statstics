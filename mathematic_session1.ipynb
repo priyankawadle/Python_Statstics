{
 "cells": [
  {
   "cell_type": "code",
   "execution_count": 4,
   "id": "92b02f93",
   "metadata": {},
   "outputs": [
    {
     "name": "stdout",
     "output_type": "stream",
     "text": [
      "Matrix A:\n",
      " [[2 4 6]\n",
      " [1 3 5]\n",
      " [6 8 7]]\n",
      "Matrix B:\n",
      " [[3 2 1]\n",
      " [6 5 4]\n",
      " [7 6 8]]\n",
      "Matrix Addition:\n",
      " [[ 5  6  7]\n",
      " [ 7  8  9]\n",
      " [13 14 15]]\n",
      "Element-wise Multiplication:\n",
      " [[ 6  8  6]\n",
      " [ 6 15 20]\n",
      " [42 48 56]]\n",
      "Matrix Multiplication (Dot Product):\n",
      " [[ 72  60  66]\n",
      " [ 56  47  53]\n",
      " [115  94  94]]\n"
     ]
    }
   ],
   "source": [
    "import numpy as np\n",
    "a = np.array([[2,4,6],[1,3,5],[6,8,7]])\n",
    "b = np.array([[3,2,1],[6,5,4],[7,6,8]])\n",
    "print(\"Matrix A:\\n\", a)\n",
    "print(\"Matrix B:\\n\", b)\n",
    "sum = a+b\n",
    "print(\"Matrix Addition:\\n\", sum)\n",
    "substract=a-b\n",
    "(\"Matrix Subtraction:\\n\", substract)\n",
    "multiply=a*b\n",
    "print(\"Element-wise Multiplication:\\n\", multiply)\n",
    "matrix_maltiplication = np.dot(a,b)\n",
    "print(\"Matrix Multiplication (Dot Product):\\n\", matrix_maltiplication)"
   ]
  },
  {
   "cell_type": "code",
   "execution_count": 10,
   "id": "d6b55a09",
   "metadata": {},
   "outputs": [
    {
     "name": "stdout",
     "output_type": "stream",
     "text": [
      "Matrix A:\n",
      " [[2 4 6]\n",
      " [1 3 5]]\n",
      "Matrix B:\n",
      " [[3 2]\n",
      " [6 5]\n",
      " [7 6]]\n",
      "Matrix Multiplication (Dot Product):\n",
      " [[72 60]\n",
      " [56 47]]\n"
     ]
    }
   ],
   "source": [
    "a1 = np.array([[2,4,6],[1,3,5]])\n",
    "b1 = np.array([[3,2],[6,5],[7,6]])\n",
    "print(\"Matrix A:\\n\", a1)\n",
    "print(\"Matrix B:\\n\", b1)\n",
    "# sum1 = a1+b1\n",
    "# print(\"Matrix Addition:\\n\", sum1)\n",
    "# substract1=a1-b1\n",
    "# (\"Matrix Subtraction:\\n\", substract1)\n",
    "# multiply1=a1*b1\n",
    "# print(\"Element-wise Multiplication:\\n\", multiply1)\n",
    "matrix_maltiplication1 = np.dot(a1,b1)\n",
    "print(\"Matrix Multiplication (Dot Product):\\n\", matrix_maltiplication1)"
   ]
  },
  {
   "cell_type": "code",
   "execution_count": 24,
   "id": "d76a2c8e",
   "metadata": {},
   "outputs": [
    {
     "name": "stdout",
     "output_type": "stream",
     "text": [
      "Solution of matrix:\n",
      " [2. 3.]\n"
     ]
    },
    {
     "ename": "LinAlgError",
     "evalue": "Singular matrix",
     "output_type": "error",
     "traceback": [
      "\u001b[1;31m---------------------------------------------------------------------------\u001b[0m",
      "\u001b[1;31mLinAlgError\u001b[0m                               Traceback (most recent call last)",
      "Cell \u001b[1;32mIn[24], line 17\u001b[0m\n\u001b[0;32m     14\u001b[0m solution \u001b[38;5;241m=\u001b[39m np\u001b[38;5;241m.\u001b[39mlinalg\u001b[38;5;241m.\u001b[39msolve(a3,b3)\n\u001b[0;32m     15\u001b[0m \u001b[38;5;28mprint\u001b[39m(\u001b[38;5;124m\"\u001b[39m\u001b[38;5;124mSolution of matrix:\u001b[39m\u001b[38;5;130;01m\\n\u001b[39;00m\u001b[38;5;124m\"\u001b[39m, solution)\n\u001b[1;32m---> 17\u001b[0m solution2 \u001b[38;5;241m=\u001b[39m \u001b[43mnp\u001b[49m\u001b[38;5;241;43m.\u001b[39;49m\u001b[43mlinalg\u001b[49m\u001b[38;5;241;43m.\u001b[39;49m\u001b[43msolve\u001b[49m\u001b[43m(\u001b[49m\u001b[43mA\u001b[49m\u001b[43m,\u001b[49m\u001b[43mB\u001b[49m\u001b[43m)\u001b[49m\n\u001b[0;32m     18\u001b[0m \u001b[38;5;28mprint\u001b[39m(\u001b[38;5;124m\"\u001b[39m\u001b[38;5;124mSolution of matrix:\u001b[39m\u001b[38;5;130;01m\\n\u001b[39;00m\u001b[38;5;124m\"\u001b[39m, solution2)\n",
      "File \u001b[1;32mc:\\Users\\saura\\AppData\\Local\\Programs\\Python\\Python310\\lib\\site-packages\\numpy\\linalg\\linalg.py:409\u001b[0m, in \u001b[0;36msolve\u001b[1;34m(a, b)\u001b[0m\n\u001b[0;32m    407\u001b[0m signature \u001b[38;5;241m=\u001b[39m \u001b[38;5;124m'\u001b[39m\u001b[38;5;124mDD->D\u001b[39m\u001b[38;5;124m'\u001b[39m \u001b[38;5;28;01mif\u001b[39;00m isComplexType(t) \u001b[38;5;28;01melse\u001b[39;00m \u001b[38;5;124m'\u001b[39m\u001b[38;5;124mdd->d\u001b[39m\u001b[38;5;124m'\u001b[39m\n\u001b[0;32m    408\u001b[0m extobj \u001b[38;5;241m=\u001b[39m get_linalg_error_extobj(_raise_linalgerror_singular)\n\u001b[1;32m--> 409\u001b[0m r \u001b[38;5;241m=\u001b[39m \u001b[43mgufunc\u001b[49m\u001b[43m(\u001b[49m\u001b[43ma\u001b[49m\u001b[43m,\u001b[49m\u001b[43m \u001b[49m\u001b[43mb\u001b[49m\u001b[43m,\u001b[49m\u001b[43m \u001b[49m\u001b[43msignature\u001b[49m\u001b[38;5;241;43m=\u001b[39;49m\u001b[43msignature\u001b[49m\u001b[43m,\u001b[49m\u001b[43m \u001b[49m\u001b[43mextobj\u001b[49m\u001b[38;5;241;43m=\u001b[39;49m\u001b[43mextobj\u001b[49m\u001b[43m)\u001b[49m\n\u001b[0;32m    411\u001b[0m \u001b[38;5;28;01mreturn\u001b[39;00m wrap(r\u001b[38;5;241m.\u001b[39mastype(result_t, copy\u001b[38;5;241m=\u001b[39m\u001b[38;5;28;01mFalse\u001b[39;00m))\n",
      "File \u001b[1;32mc:\\Users\\saura\\AppData\\Local\\Programs\\Python\\Python310\\lib\\site-packages\\numpy\\linalg\\linalg.py:112\u001b[0m, in \u001b[0;36m_raise_linalgerror_singular\u001b[1;34m(err, flag)\u001b[0m\n\u001b[0;32m    111\u001b[0m \u001b[38;5;28;01mdef\u001b[39;00m\u001b[38;5;250m \u001b[39m\u001b[38;5;21m_raise_linalgerror_singular\u001b[39m(err, flag):\n\u001b[1;32m--> 112\u001b[0m     \u001b[38;5;28;01mraise\u001b[39;00m LinAlgError(\u001b[38;5;124m\"\u001b[39m\u001b[38;5;124mSingular matrix\u001b[39m\u001b[38;5;124m\"\u001b[39m)\n",
      "\u001b[1;31mLinAlgError\u001b[0m: Singular matrix"
     ]
    }
   ],
   "source": [
    "# Practice Questions\n",
    "# Solve this system:\n",
    "# 4x + 2y = 14\n",
    "# x + y = 5\n",
    "# Try changing the constants in the original system and solve again.\n",
    "# What happens if the matrix is not invertible? Try this:\n",
    "A = np.array([[1, 2], [2, 4]])\n",
    "B = np.array([5, 10])\n",
    "# Use np.linalg.solve() — does it work?\n",
    "\n",
    "\n",
    "a3=np.array([[4,2],[1,1]])\n",
    "b3 = np.array([14,5])\n",
    "solution = np.linalg.solve(a3,b3)\n",
    "print(\"Solution of matrix:\\n\", solution)\n",
    "\n",
    "solution2 = np.linalg.solve(A,B)\n",
    "print(\"Solution of matrix:\\n\", solution2)"
   ]
  },
  {
   "cell_type": "code",
   "execution_count": 25,
   "id": "c32758d2",
   "metadata": {},
   "outputs": [
    {
     "name": "stdout",
     "output_type": "stream",
     "text": [
      "Daily Return of market is:  [0.0145 0.0153 0.0143 0.0163]\n"
     ]
    }
   ],
   "source": [
    "# Q1. Stock Portfolio Return\n",
    "# You invested in 3 different stocks over 4 days. The matrix below shows returns of each stock over time.\n",
    "# Create a 1x3 weight vector for investment percentages and calculate the total daily return using matrix multiplication.\n",
    "Returns = np.array([[0.01, 0.02, 0.015],\n",
    "           [0.012, 0.018, 0.017],\n",
    "           [0.011, 0.019, 0.014],\n",
    "           [0.013, 0.021, 0.016]])\n",
    "Weights = np.array([0.4, 0.3, 0.3])\n",
    "total_daily = np.dot(Returns,Weights)\n",
    "print(\"Daily Return of market is: \",total_daily)"
   ]
  },
  {
   "cell_type": "code",
   "execution_count": 26,
   "id": "855008d0",
   "metadata": {},
   "outputs": [
    {
     "name": "stdout",
     "output_type": "stream",
     "text": [
      "Increase brightness is:  [[ 6000  7500 10000]\n",
      " [ 5000  9000  8000]\n",
      " [ 6500  7000  8500]]\n"
     ]
    }
   ],
   "source": [
    "# Q2. Image Brightness Adjustment\n",
    "# An image is represented as a 3x3 matrix. Increase brightness by adding a scalar value of 50 to every pixel.\n",
    "\n",
    "Image = np.array([[120, 150, 200],\n",
    "         [100, 180, 160],\n",
    "         [130, 140, 170]])\n",
    "increased_brightness = Image * 50\n",
    "print(\"Increase brightness is: \",increased_brightness)"
   ]
  },
  {
   "cell_type": "code",
   "execution_count": 46,
   "id": "f0400411",
   "metadata": {},
   "outputs": [
    {
     "name": "stdout",
     "output_type": "stream",
     "text": [
      "rotate_matrix is:  [[3 6 9]\n",
      " [2 5 8]\n",
      " [1 4 7]]\n"
     ]
    }
   ],
   "source": [
    "# Q3. Rotate a Matrix 90 Degrees\n",
    "# Given a matrix:\n",
    "\n",
    "A_Matrix= np.array([[1, 2, 3],\n",
    "     [4, 5, 6],\n",
    "     [7, 8, 9]])\n",
    "rotate_matrix = np.rot90(A_Matrix)\n",
    "print(\"rotate_matrix is: \",rotate_matrix)"
   ]
  },
  {
   "cell_type": "code",
   "execution_count": 29,
   "id": "b342eeac",
   "metadata": {},
   "outputs": [
    {
     "name": "stdout",
     "output_type": "stream",
     "text": [
      "Compute_recommendation_score is:  [0.26 0.62 0.5 ]\n"
     ]
    }
   ],
   "source": [
    "# Q4. Matrix Dot Product for Recommendation Score\n",
    "# User preference vector and product feature matrix:\n",
    "# Compute recommendation score for each product using dot product.\n",
    "User = np.array([0.2, 0.8])\n",
    "Products = np.array([[0.9, 0.1],\n",
    "            [0.3, 0.7],\n",
    "            [0.5, 0.5]])\n",
    "Compute_recommendation_score = np.dot(Products,User)\n",
    "print(\"Compute_recommendation_score is: \",Compute_recommendation_score)"
   ]
  },
  {
   "cell_type": "code",
   "execution_count": 30,
   "id": "7cd8e2c0",
   "metadata": {},
   "outputs": [
    {
     "name": "stdout",
     "output_type": "stream",
     "text": [
      "number_cars is:  [90. 60.]\n"
     ]
    }
   ],
   "source": [
    "# Q5. Traffic Flow Estimation\n",
    "# Solve for traffic at 2 intersections:\n",
    "# 3x + 2y = 390\n",
    "# 2x + 3y = 360\n",
    "# Use NumPy to find the number of cars x and y going through each road.\n",
    "traffic1 = np.array([[3,2],[2,3]])\n",
    "traffic2 = np.array([390,360])\n",
    "number_cars = np.linalg.solve(traffic1,traffic2)\n",
    "print(\"number_cars is: \",number_cars)"
   ]
  },
  {
   "cell_type": "code",
   "execution_count": 44,
   "id": "f056256a",
   "metadata": {},
   "outputs": [
    {
     "name": "stdout",
     "output_type": "stream",
     "text": [
      "[[ 1  2  3]\n",
      " [ 4  5  6]\n",
      " [ 7  8  9]\n",
      " [10 11 12]] transpose_matrix is:  [[ 1  4  7 10]\n",
      " [ 2  5  8 11]\n",
      " [ 3  6  9 12]]\n"
     ]
    }
   ],
   "source": [
    "# Q6. Transpose Comparison\n",
    "# Create a random 4x3 matrix. Print its transpose and verify that element at (1, 2) in original becomes (2, 1) in transpose.\n",
    "# Use NumPy random and slicing to verify it.\n",
    "mat1 = np.array([[1,2,3],[4,5,6],[7,8,9],[10,11,12]])\n",
    "transpose_matrix = np.transpose(mat1)\n",
    "print(mat1,\"transpose_matrix is: \",transpose_matrix)\n"
   ]
  },
  {
   "cell_type": "code",
   "execution_count": 42,
   "id": "16f88225",
   "metadata": {},
   "outputs": [
    {
     "name": "stdout",
     "output_type": "stream",
     "text": [
      "[[1. 0. 0.]\n",
      " [0. 1. 0.]\n",
      " [0. 0. 1.]]\n",
      "Identity Matrix Verification is:  [[1. 2. 3.]\n",
      " [4. 5. 6.]\n",
      " [7. 8. 9.]]\n"
     ]
    }
   ],
   "source": [
    "# Q7. Identity Matrix Verification\n",
    "# Create a random 3x3 matrix M. Multiply it with identity matrix I. Confirm that the result is same as M.\n",
    "# Also verify that I * M equals M as well.\n",
    "mat2 = np.array([[1,2,3],[4,5,6],[7,8,9]])\n",
    "I = np.identity(3)\n",
    "print(I)\n",
    "multi =np.dot(mat2,I)\n",
    "print(\"Identity Matrix Verification is: \",multi)"
   ]
  },
  {
   "cell_type": "code",
   "execution_count": 40,
   "id": "ad94dd39",
   "metadata": {},
   "outputs": [
    {
     "name": "stdout",
     "output_type": "stream",
     "text": [
      "Total units sold per item: [ 60  55  77 100]\n",
      "Average sales per day: [14.25 13.25 14.25 14.75 16.5 ]\n"
     ]
    }
   ],
   "source": [
    "# Q8. Daily Sales Tracking\n",
    "# A store tracks sales of 4 items over 5 days:\n",
    "# Find:\n",
    "# Total units sold per item (column-wise sum)\n",
    "# Average sales per day (row-wise mean)\n",
    "Sales =np.array([[10, 12, 15, 20],\n",
    "         [11, 9, 14, 19],\n",
    "         [13, 10, 16, 18],\n",
    "         [12, 11, 15, 21],\n",
    "         [14, 13, 17, 22]])\n",
    "# Total units sold per item (sum of each column)\n",
    "total_per_item = np.sum(Sales, axis=0)\n",
    "\n",
    "# Average sales per day (mean of each row)\n",
    "average_per_day = np.mean(Sales, axis=1)\n",
    "\n",
    "# Output the results\n",
    "print(\"Total units sold per item:\", total_per_item)\n",
    "print(\"Average sales per day:\", average_per_day)"
   ]
  },
  {
   "cell_type": "code",
   "execution_count": 39,
   "id": "151d11c7",
   "metadata": {},
   "outputs": [
    {
     "name": "stdout",
     "output_type": "stream",
     "text": [
      "[[ 0.6 -0.7]\n",
      " [-0.2  0.4]]\n",
      "[[ 1.00000000e+00 -1.11022302e-16]\n",
      " [-1.11022302e-16  1.00000000e+00]]\n"
     ]
    }
   ],
   "source": [
    "# Q9. Matrix Inversion Check\n",
    "# Create a 2x2 matrix:\n",
    "# Use NumPy to compute inverse A_inv and verify that A dot A_inv gives identity matrix.\n",
    "Amat = np.array([[4, 7],\n",
    "     [2, 6]])\n",
    "A_inv = np.linalg.inv(Amat)\n",
    "print(A_inv)\n",
    "a_dot = np.dot(Amat,A_inv)\n",
    "print(a_dot)"
   ]
  },
  {
   "cell_type": "code",
   "execution_count": 48,
   "id": "1b32c41e",
   "metadata": {},
   "outputs": [
    {
     "name": "stdout",
     "output_type": "stream",
     "text": [
      "Error: Singular matrix\n",
      "The matrix is singular and cannot be solved.\n"
     ]
    }
   ],
   "source": [
    "# Q10. Error Handling: Singular Matrix\n",
    "# Try solving this system:\n",
    "# Use np.linalg.solve() and handle the error if matrix is singular (non-invertible). Print a message instead of crashing the code.\n",
    "A1 = np.array([[2, 4],\n",
    "     [1, 2]])\n",
    "B1 = np.array([10, 5])\n",
    "\n",
    "try:\n",
    "    # Attempt to solve Ax = b\n",
    "    x = np.linalg.solve(A1, B1)\n",
    "    print(\"Solution x:\", x)\n",
    "except np.linalg.LinAlgError as e:\n",
    "    print(\"Error:\", e)\n",
    "    print(\"The matrix is singular and cannot be solved.\")\n",
    "\n"
   ]
  }
 ],
 "metadata": {
  "kernelspec": {
   "display_name": "Python 3",
   "language": "python",
   "name": "python3"
  },
  "language_info": {
   "codemirror_mode": {
    "name": "ipython",
    "version": 3
   },
   "file_extension": ".py",
   "mimetype": "text/x-python",
   "name": "python",
   "nbconvert_exporter": "python",
   "pygments_lexer": "ipython3",
   "version": "3.10.11"
  }
 },
 "nbformat": 4,
 "nbformat_minor": 5
}
